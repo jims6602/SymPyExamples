{
 "cells": [
  {
   "cell_type": "code",
   "execution_count": 1,
   "metadata": {},
   "outputs": [],
   "source": [
    "import sympy as sp\n",
    "sp.init_printing()"
   ]
  },
  {
   "cell_type": "code",
   "execution_count": 2,
   "metadata": {},
   "outputs": [],
   "source": [
    "x,y,z = sp.symbols('x,y,x')"
   ]
  },
  {
   "cell_type": "markdown",
   "metadata": {},
   "source": [
    "# Simplify"
   ]
  },
  {
   "cell_type": "markdown",
   "metadata": {},
   "source": [
    "$\n",
    "\\frac{x^2 - x -6}{x^2 - 3x}\n",
    "$"
   ]
  },
  {
   "cell_type": "code",
   "execution_count": 3,
   "metadata": {},
   "outputs": [
    {
     "data": {
      "image/png": "[encoded data removed]",
      "text/latex": [
       "$\\displaystyle \\frac{x + 2}{x}$"
      ],
      "text/plain": [
       "x + 2\n",
       "─────\n",
       "  x  "
      ]
     },
     "execution_count": 3,
     "metadata": {},
     "output_type": "execute_result"
    }
   ],
   "source": [
    "f = (x**2 - x -6)/(x**2-3*x)\n",
    "sp.simplify(f)"
   ]
  },
  {
   "cell_type": "markdown",
   "metadata": {},
   "source": [
    "# Evaluate"
   ]
  },
  {
   "cell_type": "markdown",
   "metadata": {},
   "source": [
    "Evaluate the expression $ x^2 + 2x -5 $ for $ x = 1.5 $ "
   ]
  },
  {
   "cell_type": "code",
   "execution_count": 4,
   "metadata": {},
   "outputs": [
    {
     "name": "stdout",
     "output_type": "stream",
     "text": [
      "0.250000000000000\n"
     ]
    }
   ],
   "source": [
    "h = x**2 + 2*x -5\n",
    "print(h.subs(x,1.5))"
   ]
  },
  {
   "cell_type": "markdown",
   "metadata": {},
   "source": [
    "# Substition"
   ]
  },
  {
   "cell_type": "markdown",
   "metadata": {},
   "source": [
    "Substition $ y^2 $ for $ x $ in the expression $ x^2 + 2x -5 $"
   ]
  },
  {
   "cell_type": "code",
   "execution_count": 14,
   "metadata": {},
   "outputs": [
    {
     "name": "stdout",
     "output_type": "stream",
     "text": [
      " 4      2    \n",
      "y  + 2⋅y  - 5\n"
     ]
    }
   ],
   "source": [
    "h = x**2 + 2*x -5\n",
    "sp.pprint(h.subs(x,y**2)) "
   ]
  },
  {
   "cell_type": "markdown",
   "metadata": {},
   "source": [
    "# Expand"
   ]
  },
  {
   "cell_type": "markdown",
   "metadata": {},
   "source": [
    "Expand the following expression symbolically $(x+1)^3 (x-2)^3$"
   ]
  },
  {
   "cell_type": "code",
   "execution_count": 18,
   "metadata": {},
   "outputs": [
    {
     "data": {
      "image/png": "[encoded data removed]",
      "text/latex": [
       "$\\displaystyle x^{5} - x^{4} - 5 x^{3} + x^{2} + 8 x + 4$"
      ],
      "text/plain": [
       " 5    4      3    2          \n",
       "x  - x  - 5⋅x  + x  + 8⋅x + 4"
      ]
     },
     "execution_count": 18,
     "metadata": {},
     "output_type": "execute_result"
    }
   ],
   "source": [
    "f = (x+1)**3 * (x-2)**2\n",
    "sp.expand(f)"
   ]
  },
  {
   "cell_type": "markdown",
   "metadata": {},
   "source": [
    "# Factor "
   ]
  },
  {
   "cell_type": "markdown",
   "metadata": {},
   "source": [
    "Factor the following expression $ 3 x^4 - 36 x^3 +99 x^2 -6x -144 $"
   ]
  },
  {
   "cell_type": "code",
   "execution_count": 20,
   "metadata": {},
   "outputs": [
    {
     "data": {
      "image/png": "[encoded data removed]",
      "text/latex": [
       "$\\displaystyle 3 \\left(x - 8\\right) \\left(x - 3\\right) \\left(x - 2\\right) \\left(x + 1\\right)$"
      ],
      "text/plain": [
       "3⋅(x - 8)⋅(x - 3)⋅(x - 2)⋅(x + 1)"
      ]
     },
     "execution_count": 20,
     "metadata": {},
     "output_type": "execute_result"
    }
   ],
   "source": [
    "f = 3*x**4 - 36*x**3 + 99*x**2 - 6 *x -144\n",
    "sp.factor(f)"
   ]
  }
 ],
 "metadata": {
  "kernelspec": {
   "display_name": "Python 3",
   "language": "python",
   "name": "python3"
  },
  "language_info": {
   "codemirror_mode": {
    "name": "ipython",
    "version": 3
   },
   "file_extension": ".py",
   "mimetype": "text/x-python",
   "name": "python",
   "nbconvert_exporter": "python",
   "pygments_lexer": "ipython3",
   "version": "3.7.0"
  }
 },
 "nbformat": 4,
 "nbformat_minor": 2
}
